{
 "cells": [
  {
   "cell_type": "markdown",
   "id": "d88af8b6-964e-4c3f-a7b8-516c7dc81c1c",
   "metadata": {},
   "source": [
    "# Task 1"
   ]
  },
  {
   "cell_type": "code",
   "execution_count": 17,
   "id": "820aff6f-3114-4dfc-9d83-a3a8c1a7f427",
   "metadata": {},
   "outputs": [
    {
     "name": "stdout",
     "output_type": "stream",
     "text": [
      "Type message (type exit to stop):\n"
     ]
    },
    {
     "name": "stdin",
     "output_type": "stream",
     "text": [
      "You:  hi\n"
     ]
    },
    {
     "name": "stdout",
     "output_type": "stream",
     "text": [
      "Intent: greeting\n"
     ]
    },
    {
     "name": "stdin",
     "output_type": "stream",
     "text": [
      "You:  exit\n"
     ]
    },
    {
     "name": "stdout",
     "output_type": "stream",
     "text": [
      "exiting....\n"
     ]
    }
   ],
   "source": [
    "intent_keywords = {\n",
    " \"greeting\": [\"hi\", \"hello\", \"salam\", \"assalam\", \"hey\"],\n",
    " \"goodbye\": [\"bye\", \"goodbye\", \"see you\", \"take care\"],\n",
    " \"thanks\": [\"thanks\", \"thank you\", \"shukriya\"],\n",
    " \"food\": [\"eat\", \"restaurant\", \"food\", \"lunch\", \"dinner\"],\n",
    " \"study\": [\"study\", \"exam\", \"assignment\", \"quiz\", \"lecture\"]\n",
    "}\n",
    "\n",
    "def classify_intent(user_input):\n",
    "    input_text = user_input.lower().strip()\n",
    "    for intent in [\"greeting\", \"goodbye\", \"thanks\", \"food\", \"study\"]:\n",
    "        for keyword in intent_keywords[intent]:\n",
    "            if keyword in input_text:\n",
    "                return intent\n",
    "    return \"Unkown\"\n",
    "print(\"Type message (type exit to stop):\")\n",
    "while True:\n",
    "    user_input = input(\"You: \").strip()\n",
    "    if user_input == \"exit\":\n",
    "        print(\"exiting....\")\n",
    "        break\n",
    "    intent = classify_intent(user_input)\n",
    "    print(f\"Intent: {intent}\")"
   ]
  },
  {
   "cell_type": "markdown",
   "id": "497c2459-619c-49b3-b1e0-37484370a106",
   "metadata": {},
   "source": [
    "# Task 2"
   ]
  },
  {
   "cell_type": "code",
   "execution_count": 18,
   "id": "58f1c02c-0834-4db7-ae42-dc601b3e332b",
   "metadata": {},
   "outputs": [
    {
     "name": "stdout",
     "output_type": "stream",
     "text": [
      "Enter Candidate info (type exit to stop):\n"
     ]
    },
    {
     "name": "stdin",
     "output_type": "stream",
     "text": [
      "Yes / exit: exit\n"
     ]
    },
    {
     "name": "stdout",
     "output_type": "stream",
     "text": [
      "exit....\n"
     ]
    }
   ],
   "source": [
    "def decide_scholarship(cgpa, salary , achivments):\n",
    "    # make all achievement strings lowercase and strip spaces\n",
    "    ach = [a.strip().lower() for a in achivments]\n",
    "    # check if any achievement mentions a national-level award\n",
    "    # (note: we look for the word \"national\" in achievement text)\n",
    "    has_national = any(\"national\" in a for a in ach)\n",
    "\n",
    "    # Full scholarship: very high CGPA and low family income\n",
    "    if cgpa >= 3.70 and salary <= 60000:\n",
    "        return \"Full scholarship\"\n",
    "    # Half scholarship: decent CGPA and moderate income\n",
    "    elif cgpa >= 3.00 and salary <= 120000:\n",
    "        return \"Half scholarship\"\n",
    "    # Half scholarship if CGPA good and has national achievement\n",
    "    elif cgpa >= 3.5 and has_national:\n",
    "        return \"Half scholarship\"\n",
    "    else:\n",
    "        # otherwise no scholarship\n",
    "        return \"No scholarship\"\n",
    "\n",
    "def read_float(prompt , lo=None , hi=None):\n",
    "    # read a float from user; keep asking until valid and within bounds\n",
    "    while True:\n",
    "        try:\n",
    "            val = float(input(prompt))\n",
    "            if lo is not None and val < lo:\n",
    "                print(f\"Value must be >= {lo}\"); continue\n",
    "            if hi is not None and val > hi:\n",
    "                print(f\"Value must be <= {hi}\"); continue\n",
    "            return val\n",
    "        except ValueError:\n",
    "            # tell user the input was not a number\n",
    "            print(\"Please enter a valid number\")\n",
    "\n",
    "def read_int(prompt , lo=None , hi=None):\n",
    "    # read an integer from user; keep asking until valid and within bounds\n",
    "    while True:\n",
    "        try:\n",
    "            val = int(input(prompt))\n",
    "            if lo is not None and val < lo:\n",
    "                print(f\"Value must be >= {lo}\"); continue\n",
    "            if hi is not None and val > hi:\n",
    "                print(f\"Value must be <= {hi}\"); continue\n",
    "            return val\n",
    "        except ValueError:\n",
    "            # tell user the input was not an integer\n",
    "            print(\"Please enter an integer\")\n",
    "\n",
    "# main loop: collect multiple candidates until user types \"exit\"\n",
    "while True:\n",
    "    print(\"Enter Candidate info (type exit to stop):\")\n",
    "    raw = input(\"Yes / exit:\").strip().lower()\n",
    "    # stop the loop if user types the word \"exit\"\n",
    "    if raw == \"exit\":\n",
    "        print(\"exit....\")\n",
    "        break\n",
    "\n",
    "    # ask for candidate CGPA (0.0 to 4.0)\n",
    "    cgpa = read_float(\"CGPA (0.0 , 4.0): \" , 0.0 , 4.0)\n",
    "    # ask for family income (non-negative integer)\n",
    "    salary = read_int(\"Family income PKR (per month): \", 0)\n",
    "    # ask for achievements as comma-separated text\n",
    "    ach_str = input(\"achivments (comma separated): \").strip()\n",
    "    achivments = [s for s in ach_str.split(\",\")] if ach_str else []\n",
    "    # decide scholarship based on collected info\n",
    "    decision = decide_scholarship(cgpa , salary , achivments)\n",
    "    # show the decision to the user\n",
    "    print(f\"Decision: {decision}\")\n",
    "# ...existing code..."
   ]
  },
  {
   "cell_type": "markdown",
   "id": "0f713c99-776e-43d5-835f-0504a3312514",
   "metadata": {},
   "source": [
    "# Task 3"
   ]
  },
  {
   "cell_type": "code",
   "execution_count": 20,
   "id": "487efa9d-2afa-4c2b-9400-61a9c07d9d34",
   "metadata": {},
   "outputs": [
    {
     "name": "stdout",
     "output_type": "stream",
     "text": [
      "\n",
      "Recommend an activity (type exit to quit)\n"
     ]
    },
    {
     "name": "stdin",
     "output_type": "stream",
     "text": [
      "Continue? (yes/exit):  exit\n"
     ]
    },
    {
     "name": "stdout",
     "output_type": "stream",
     "text": [
      "Exit/...\n"
     ]
    }
   ],
   "source": [
    "\n",
    "def activity_recomendor(feeling, time_of_day):\n",
    "    # normalize inputs to lowercase and remove extra spaces\n",
    "    feeling = feeling.lower().strip()\n",
    "    time_of_day = time_of_day.lower().strip()\n",
    "\n",
    "    # starting scores for each activity\n",
    "    scores = {\"read\": 0, \"walk\": 0, \"nap\": 0, \"music\": 0}\n",
    "\n",
    "    # add points based on how the user feels\n",
    "    if feeling == \"tired\":\n",
    "        scores[\"nap\"] += 3\n",
    "        scores[\"music\"] += 1\n",
    "    elif feeling == \"stressed\":\n",
    "        scores[\"walk\"] += 2\n",
    "        scores[\"music\"] += 2\n",
    "    elif feeling == \"bored\":\n",
    "        scores[\"read\"] += 2\n",
    "        scores[\"walk\"] += 1\n",
    "    elif feeling == \"energetic\":\n",
    "        scores[\"walk\"] += 3\n",
    "        scores[\"read\"] += 1\n",
    "\n",
    "    # add points based on time of day\n",
    "    if time_of_day in (\"morning\", \"afternoon\"):\n",
    "        scores[\"walk\"] += 1\n",
    "        scores[\"read\"] += 1\n",
    "    elif time_of_day in (\"evening\",):\n",
    "        scores[\"music\"] += 2\n",
    "        scores[\"walk\"] += 1\n",
    "    elif time_of_day in (\"night\",):\n",
    "        scores[\"nap\"] += 2\n",
    "        scores[\"read\"] += 1\n",
    "\n",
    "    # pick the activity with the highest score\n",
    "    best = max(scores, key=scores.get)\n",
    "    return best, scores\n",
    "\n",
    "def read_choice(prompt, choices):\n",
    "    # make a lowercase list of valid choices for checking\n",
    "    low = [c.lower() for c in choices]\n",
    "\n",
    "    # keep asking until user types a valid choice\n",
    "    while True:\n",
    "        s = input(f\" {prompt} {choices}\").strip().lower()\n",
    "        if s in low:\n",
    "            return s\n",
    "        # tell the user the input was invalid\n",
    "        print(f\"Please enter one of these choices: {choices}\")\n",
    "\n",
    "# main loop: ask user if they want a recommendation, then get details\n",
    "while True:\n",
    "    print(\"\\nRecommend an activity (type exit to quit)\")\n",
    "    nxt = input(\"Continue? (yes/exit): \").strip().lower()\n",
    "    if nxt == \"exit\":\n",
    "        print(\"Exit/...\")\n",
    "        break\n",
    "\n",
    "    # ask how the user is feeling (valid options shown)\n",
    "    feeling = read_choice(\"How are you feeling?\", [\"tired\", \"stressed\", \"bored\", \"energetic\"])\n",
    "    # ask the time of day (valid options shown)\n",
    "    time_of_day = read_choice(\"Time of day?\", [\"morning\", \"afternoon\", \"evening\", \"night\"])\n",
    "\n",
    "    # get recommendation and show scores for each activity\n",
    "    rec, sc = activity_recomendor(feeling, time_of_day)\n",
    "    print(f\"Recommended activity: {rec} (scores: {sc})\")\n"
   ]
  },
  {
   "cell_type": "markdown",
   "id": "81db8e68-3328-4995-b7f4-8bb7c0dcdfdf",
   "metadata": {},
   "source": [
    "# Task 4"
   ]
  },
  {
   "cell_type": "code",
   "execution_count": 21,
   "id": "f948e512-81c1-47e6-8057-37aa156cdaa6",
   "metadata": {},
   "outputs": [
    {
     "name": "stdout",
     "output_type": "stream",
     "text": [
      "\n",
      "Traffic light simulation (type 'exit' to stop)\n"
     ]
    },
    {
     "name": "stdin",
     "output_type": "stream",
     "text": [
      "Continue? (yes/exit):  exit\n"
     ]
    },
    {
     "name": "stdout",
     "output_type": "stream",
     "text": [
      "Stopped Task 4.\n"
     ]
    }
   ],
   "source": [
    "# Simple traffic light simulator using a small finite-state machine (FSM).\n",
    "# It cycles through RED -> GREEN -> YELLOW and can record visited states.\n",
    "\n",
    "import time\n",
    "\n",
    "# FSM: each state maps to the next state and how long to wait (seconds)\n",
    "fsm = {\n",
    "    \"RED\": {\"next\": \"GREEN\", \"duration\": 1},\n",
    "    \"GREEN\": {\"next\": \"YELLOW\", \"duration\": 1},\n",
    "    \"YELLOW\": {\"next\": \"RED\", \"duration\": 1},\n",
    "}\n",
    "\n",
    "def run_traffic_lights(cycles=2, real_delay=False):\n",
    "    \"\"\"\n",
    "    Run the traffic light FSM for `cycles` full cycles.\n",
    "    cycles: number of times to go through all states\n",
    "    real_delay: if True, actually sleep for each state's duration\n",
    "    Returns a list of visited states in order.\n",
    "    \"\"\"\n",
    "    state = \"RED\"      # start state\n",
    "    history = []       # record visited states\n",
    "\n",
    "    # total steps = cycles * number of states\n",
    "    for _ in range(cycles * len(fsm)):\n",
    "        info = fsm[state]\n",
    "        # show current state and how many seconds we'd wait\n",
    "        print(f\"State: {state}  (wait {info['duration']}s)\")\n",
    "        history.append(state)\n",
    "\n",
    "        # sleep only if real_delay is requested\n",
    "        time.sleep(info['duration'] if real_delay else 0)\n",
    "\n",
    "        # move to next state\n",
    "        state = info[\"next\"]\n",
    "\n",
    "    return history\n",
    "\n",
    "# Main interactive loop\n",
    "while True:\n",
    "    print(\"\\nTraffic light simulation (type 'exit' to stop)\")\n",
    "    cont = input(\"Continue? (yes/exit): \").strip().lower()\n",
    "    if cont == \"exit\":\n",
    "        print(\"Stopped Task 4.\")\n",
    "        break\n",
    "\n",
    "    # ask for number of cycles and validate input\n",
    "    while True:\n",
    "        try:\n",
    "            cycles = int(input(\"Number of cycles (e.g., 2): \"))\n",
    "            if cycles <= 0:\n",
    "                print(\"Please enter a positive integer.\")\n",
    "                continue\n",
    "            break\n",
    "        except ValueError:\n",
    "            print(\"Please enter an integer\")\n",
    "\n",
    "    # ask whether to use real delays\n",
    "    delay_ans = input(\"Real delay? (y/n): \").strip().lower()\n",
    "    history = run_traffic_lights(cycles, real_delay=(delay_ans == \"y\"))\n",
    "\n",
    "    # show visited states\n",
    "    print(\"Visited states:\", history)"
   ]
  },
  {
   "cell_type": "markdown",
   "id": "0afdf55d-22ff-4d61-a6b8-1b3f30008116",
   "metadata": {},
   "source": [
    "# Task 5"
   ]
  },
  {
   "cell_type": "code",
   "execution_count": 22,
   "id": "36e58ff2-1744-47d1-b6b7-13a10795bc99",
   "metadata": {},
   "outputs": [
    {
     "name": "stdout",
     "output_type": "stream",
     "text": [
      "Fill the form below:\n"
     ]
    },
    {
     "name": "stdin",
     "output_type": "stream",
     "text": [
      "Your name:  exitr\n",
      " Preferred activity? ['read', 'walk', 'nap', 'music'] walk\n",
      "Your CGPA (0.0,4.0):  3\n"
     ]
    },
    {
     "name": "stdout",
     "output_type": "stream",
     "text": [
      "Summary -> Name: exitr, Activity: walk, CGPA: 3.0\n"
     ]
    }
   ],
   "source": [
    "def read_nonempty(prompt):\n",
    "    while True:\n",
    "        s = input(prompt).strip()\n",
    "        if s:\n",
    "            return s\n",
    "        print(\"Input cannot be empty. Please try again.\")\n",
    "\n",
    "def read_choice(prompt, choices):\n",
    "    # make a lowercase list of valid choices for checking\n",
    "    low = [c.lower() for c in choices]\n",
    "    while True:\n",
    "        s = input(f\" {prompt} {choices}\").strip().lower()\n",
    "        if s in low:\n",
    "            return s\n",
    "        # tell the user the input was invalid\n",
    "        print(f\"Please enter one of these choices: {choices}\")\n",
    "\n",
    "def read_float(prompt , lo=None , hi=None):\n",
    "    # read a float from user; keep asking until valid and within bounds\n",
    "    while True:\n",
    "        try:\n",
    "            val = float(input(prompt))\n",
    "            if lo is not None and val < lo:\n",
    "                print(f\"Value must be >= {lo}\"); continue\n",
    "            if hi is not None and val > hi:\n",
    "                print(f\"Value must be <= {hi}\"); continue\n",
    "            return val\n",
    "        except ValueError:\n",
    "            # tell user the input was not a number\n",
    "            print(\"Please enter a valid number\")\n",
    "print(\"Fill the form below:\")\n",
    "name = read_nonempty(\"Your name: \")\n",
    "activity = read_choice(\"Preferred activity?\", [\"read\",\"walk\",\"nap\",\"music\"])\n",
    "cgpa = read_float(\"Your CGPA (0.0,4.0): \", 0.0, 4.0)\n",
    "print(f\"Summary -> Name: {name}, Activity: {activity}, CGPA: {cgpa}\")"
   ]
  },
  {
   "cell_type": "code",
   "execution_count": 25,
   "id": "26a7f072-4008-4d61-91ed-cd4440c362b2",
   "metadata": {},
   "outputs": [
    {
     "name": "stdout",
     "output_type": "stream",
     "text": [
      "Chat with AI Help Desk (type 'exit' to finish).\n"
     ]
    },
    {
     "name": "stdin",
     "output_type": "stream",
     "text": [
      "You:  study\n"
     ]
    },
    {
     "name": "stdout",
     "output_type": "stream",
     "text": [
      "Bot Study tip: set a 25-minute focus timer. Also try a quick music \n"
     ]
    },
    {
     "name": "stdin",
     "output_type": "stream",
     "text": [
      "You:  hi\n"
     ]
    },
    {
     "name": "stdout",
     "output_type": "stream",
     "text": [
      "Bot Hello! How can I help you today?\n"
     ]
    },
    {
     "name": "stdin",
     "output_type": "stream",
     "text": [
      "You:  whats up\n"
     ]
    },
    {
     "name": "stdout",
     "output_type": "stream",
     "text": [
      "Bot I'm not sure yet, but I can help with study tips, greetings\n"
     ]
    },
    {
     "name": "stdin",
     "output_type": "stream",
     "text": [
      "You:  food\n"
     ]
    },
    {
     "name": "stdout",
     "output_type": "stream",
     "text": [
      "Bot Try a light, healthy meal so your energy stays stable while studing\n"
     ]
    },
    {
     "name": "stdin",
     "output_type": "stream",
     "text": [
      "You:  ok\n"
     ]
    },
    {
     "name": "stdout",
     "output_type": "stream",
     "text": [
      "Bot I'm not sure yet, but I can help with study tips, greetings\n"
     ]
    },
    {
     "name": "stdin",
     "output_type": "stream",
     "text": [
      "You:  bye\n"
     ]
    },
    {
     "name": "stdout",
     "output_type": "stream",
     "text": [
      "Bot Goodbye! See you soon.\n"
     ]
    },
    {
     "name": "stdin",
     "output_type": "stream",
     "text": [
      "You:  exit\n"
     ]
    },
    {
     "name": "stdout",
     "output_type": "stream",
     "text": [
      "Session ended, Summary below\n",
      "\n",
      "Conversation Summary:\n",
      "1. Intent=study    | User='study' | Reply='Study tip: set a 25-minute focus timer. Also try a quick music '\n",
      "2. Intent=greeting | User='hi' | Reply='Hello! How can I help you today?'\n",
      "3. Intent=Unkown   | User='whats up' | Reply='I'm not sure yet, but I can help with study tips, greetings'\n",
      "4. Intent=food     | User='food' | Reply='Try a light, healthy meal so your energy stays stable while studing'\n",
      "5. Intent=Unkown   | User='ok' | Reply='I'm not sure yet, but I can help with study tips, greetings'\n",
      "6. Intent=goodbye  | User='bye' | Reply='Goodbye! See you soon.'\n"
     ]
    }
   ],
   "source": [
    "history = []\n",
    "def bot_reply(user_msg):\n",
    "    intent = classify_intent(user_msg)\n",
    "    if intent ==\"greeting\":\n",
    "        reply = \"Hello! How can I help you today?\"\n",
    "    elif intent == \"thanks\":\n",
    "        reply = \"You're welcome! Happy to help.\"\n",
    "    elif intent == \"goodbye\":\n",
    "        reply = \"Goodbye! See you soon.\"\n",
    "    elif intent == \"study\":\n",
    "        rec , _ = activity_recomendor(\"stressed\" , \"evening\")\n",
    "        reply = f\"Study tip: set a 25-minute focus timer. Also try a quick {rec} \"\n",
    "    elif intent == \"food\":\n",
    "        reply = \"Try a light, healthy meal so your energy stays stable while studing\"\n",
    "    else:\n",
    "        reply = \"I'm not sure yet, but I can help with study tips, greetings\"\n",
    "    return intent , reply\n",
    "\n",
    "\n",
    "print(\"Chat with AI Help Desk (type 'exit' to finish).\")\n",
    "while True:\n",
    "    u = input(\"You: \").strip()\n",
    "    if u.lower() == \"exit\":\n",
    "        print(\"Session ended, Summary below\")\n",
    "        break\n",
    "    intent , resp = bot_reply(u)\n",
    "    history.append((u , intent , resp))\n",
    "    print(\"Bot\" , resp)\n",
    "    \n",
    "print(\"\\nConversation Summary:\")\n",
    "for i , (u ,it,r) in  enumerate(history ,1):\n",
    "    print(f\"{i}. Intent={it:8s} | User='{u}' | Reply='{r}'\")       "
   ]
  },
  {
   "cell_type": "code",
   "execution_count": null,
   "id": "ffabfc61-16df-4319-a9ec-b3075131a84d",
   "metadata": {},
   "outputs": [],
   "source": []
  },
  {
   "cell_type": "code",
   "execution_count": null,
   "id": "f3c0134c-e8c5-4649-975e-19e3510ff172",
   "metadata": {},
   "outputs": [],
   "source": []
  }
 ],
 "metadata": {
  "kernelspec": {
   "display_name": "Python 3 (ipykernel)",
   "language": "python",
   "name": "python3"
  },
  "language_info": {
   "codemirror_mode": {
    "name": "ipython",
    "version": 3
   },
   "file_extension": ".py",
   "mimetype": "text/x-python",
   "name": "python",
   "nbconvert_exporter": "python",
   "pygments_lexer": "ipython3",
   "version": "3.13.5"
  }
 },
 "nbformat": 4,
 "nbformat_minor": 5
}
